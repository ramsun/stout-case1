{
 "cells": [
  {
   "cell_type": "markdown",
   "id": "constitutional-country",
   "metadata": {},
   "source": [
    "# Case 1: Predictive Analytics and Visualisations\n",
    "In this notebook, there are the four main sections:\n",
    "1. Import Data\n",
    "2. Exploratory Data Analysis\n",
    "    1. Dropping unnecessary columns\n",
    "    2. Correlation matrix\n",
    "    3. Checking for nans\n",
    "    4. Describe payment type distributions\n",
    "    5. Check for balance in label (isFraud column)\n",
    "3. Feature engineering: Encoding\n",
    "4. Models\n",
    "    1. Logistic Regression\n",
    "    2. Random Forrest"
   ]
  },
  {
   "cell_type": "code",
   "execution_count": 1,
   "id": "acquired-reform",
   "metadata": {},
   "outputs": [],
   "source": [
    "import os\n",
    "import pandas as pd\n",
    "import numpy as np\n",
    "import matplotlib.pyplot as plt\n",
    "import seaborn as sns\n",
    "from sklearn.preprocessing import OneHotEncoder\n",
    "import sklearn.metrics as sm\n",
    "from sklearn.linear_model import LogisticRegression\n",
    "from sklearn.ensemble import RandomForestClassifier\n",
    "from sklearn.ensemble import GradientBoostingClassifier\n",
    "from sklearn.naive_bayes import GaussianNB\n",
    "from sklearn.ensemble import BaggingClassifier\n",
    "from sklearn.metrics import accuracy_score, recall_score, confusion_matrix, average_precision_score, f1_score\n",
    "from sklearn.metrics import precision_recall_curve\n",
    "from sklearn.model_selection import StratifiedKFold"
   ]
  },
  {
   "cell_type": "markdown",
   "id": "entertaining-airport",
   "metadata": {},
   "source": [
    "## Import Data"
   ]
  },
  {
   "cell_type": "code",
   "execution_count": 2,
   "id": "secret-criticism",
   "metadata": {},
   "outputs": [],
   "source": [
    "dirname = os.path.dirname('__file__')\n",
    "filename = os.path.join(dirname, 'PS_20174392719_1491204439457_log.csv')\n",
    "fraud_df = pd.read_csv(filename)"
   ]
  },
  {
   "cell_type": "code",
   "execution_count": 3,
   "id": "welcome-marble",
   "metadata": {},
   "outputs": [
    {
     "data": {
      "text/html": [
       "<div>\n",
       "<style scoped>\n",
       "    .dataframe tbody tr th:only-of-type {\n",
       "        vertical-align: middle;\n",
       "    }\n",
       "\n",
       "    .dataframe tbody tr th {\n",
       "        vertical-align: top;\n",
       "    }\n",
       "\n",
       "    .dataframe thead th {\n",
       "        text-align: right;\n",
       "    }\n",
       "</style>\n",
       "<table border=\"1\" class=\"dataframe\">\n",
       "  <thead>\n",
       "    <tr style=\"text-align: right;\">\n",
       "      <th></th>\n",
       "      <th>step</th>\n",
       "      <th>type</th>\n",
       "      <th>amount</th>\n",
       "      <th>nameOrig</th>\n",
       "      <th>oldbalanceOrg</th>\n",
       "      <th>newbalanceOrig</th>\n",
       "      <th>nameDest</th>\n",
       "      <th>oldbalanceDest</th>\n",
       "      <th>newbalanceDest</th>\n",
       "      <th>isFraud</th>\n",
       "      <th>isFlaggedFraud</th>\n",
       "    </tr>\n",
       "  </thead>\n",
       "  <tbody>\n",
       "    <tr>\n",
       "      <th>0</th>\n",
       "      <td>1</td>\n",
       "      <td>PAYMENT</td>\n",
       "      <td>9839.64</td>\n",
       "      <td>C1231006815</td>\n",
       "      <td>170136.0</td>\n",
       "      <td>160296.36</td>\n",
       "      <td>M1979787155</td>\n",
       "      <td>0.0</td>\n",
       "      <td>0.0</td>\n",
       "      <td>0</td>\n",
       "      <td>0</td>\n",
       "    </tr>\n",
       "    <tr>\n",
       "      <th>1</th>\n",
       "      <td>1</td>\n",
       "      <td>PAYMENT</td>\n",
       "      <td>1864.28</td>\n",
       "      <td>C1666544295</td>\n",
       "      <td>21249.0</td>\n",
       "      <td>19384.72</td>\n",
       "      <td>M2044282225</td>\n",
       "      <td>0.0</td>\n",
       "      <td>0.0</td>\n",
       "      <td>0</td>\n",
       "      <td>0</td>\n",
       "    </tr>\n",
       "    <tr>\n",
       "      <th>2</th>\n",
       "      <td>1</td>\n",
       "      <td>TRANSFER</td>\n",
       "      <td>181.00</td>\n",
       "      <td>C1305486145</td>\n",
       "      <td>181.0</td>\n",
       "      <td>0.00</td>\n",
       "      <td>C553264065</td>\n",
       "      <td>0.0</td>\n",
       "      <td>0.0</td>\n",
       "      <td>1</td>\n",
       "      <td>0</td>\n",
       "    </tr>\n",
       "    <tr>\n",
       "      <th>3</th>\n",
       "      <td>1</td>\n",
       "      <td>CASH_OUT</td>\n",
       "      <td>181.00</td>\n",
       "      <td>C840083671</td>\n",
       "      <td>181.0</td>\n",
       "      <td>0.00</td>\n",
       "      <td>C38997010</td>\n",
       "      <td>21182.0</td>\n",
       "      <td>0.0</td>\n",
       "      <td>1</td>\n",
       "      <td>0</td>\n",
       "    </tr>\n",
       "    <tr>\n",
       "      <th>4</th>\n",
       "      <td>1</td>\n",
       "      <td>PAYMENT</td>\n",
       "      <td>11668.14</td>\n",
       "      <td>C2048537720</td>\n",
       "      <td>41554.0</td>\n",
       "      <td>29885.86</td>\n",
       "      <td>M1230701703</td>\n",
       "      <td>0.0</td>\n",
       "      <td>0.0</td>\n",
       "      <td>0</td>\n",
       "      <td>0</td>\n",
       "    </tr>\n",
       "  </tbody>\n",
       "</table>\n",
       "</div>"
      ],
      "text/plain": [
       "   step      type    amount     nameOrig  oldbalanceOrg  newbalanceOrig  \\\n",
       "0     1   PAYMENT   9839.64  C1231006815       170136.0       160296.36   \n",
       "1     1   PAYMENT   1864.28  C1666544295        21249.0        19384.72   \n",
       "2     1  TRANSFER    181.00  C1305486145          181.0            0.00   \n",
       "3     1  CASH_OUT    181.00   C840083671          181.0            0.00   \n",
       "4     1   PAYMENT  11668.14  C2048537720        41554.0        29885.86   \n",
       "\n",
       "      nameDest  oldbalanceDest  newbalanceDest  isFraud  isFlaggedFraud  \n",
       "0  M1979787155             0.0             0.0        0               0  \n",
       "1  M2044282225             0.0             0.0        0               0  \n",
       "2   C553264065             0.0             0.0        1               0  \n",
       "3    C38997010         21182.0             0.0        1               0  \n",
       "4  M1230701703             0.0             0.0        0               0  "
      ]
     },
     "execution_count": 3,
     "metadata": {},
     "output_type": "execute_result"
    }
   ],
   "source": [
    "fraud_df.head()"
   ]
  },
  {
   "cell_type": "markdown",
   "id": "swedish-routine",
   "metadata": {},
   "source": [
    "## Exploratory Data Analysis\n",
    "1. Dropping unnecessary columns\n",
    "    * Helps prevent your model from learning from noise (over-fitting)\n",
    "2. Correlation Matrix\n",
    "    * Check for colinearity\n",
    "3. Check for nans\n",
    "4. Describe Payment Type Distributions\n",
    "    * There are 5 payment types.  We look at these distributions to check for skew (aka a large difference between the mean and median)\n",
    "5. Balance in label (y value or isFraud column)\n",
    "    * We want to check to make sure the number of 0 and 1 values in the isFraudulent column is around the same.  In a fraudulent transaction dataset we would expect there to be an imbalance, which we find to be true.\n",
    "    * The challenenge with imbalanced datasets comes when you try to create test-train splits.  If you have an imbalance, a randomized test-train split could have messed up proportions between y-train and y-test.\n",
    "    * We can solve this problem with a __stratified k-fold cross validation__."
   ]
  },
  {
   "cell_type": "markdown",
   "id": "representative-sunset",
   "metadata": {},
   "source": [
    "### Dropping Unnecessary Columns"
   ]
  },
  {
   "cell_type": "code",
   "execution_count": 4,
   "id": "simplified-reynolds",
   "metadata": {},
   "outputs": [
    {
     "data": {
      "text/html": [
       "<div>\n",
       "<style scoped>\n",
       "    .dataframe tbody tr th:only-of-type {\n",
       "        vertical-align: middle;\n",
       "    }\n",
       "\n",
       "    .dataframe tbody tr th {\n",
       "        vertical-align: top;\n",
       "    }\n",
       "\n",
       "    .dataframe thead th {\n",
       "        text-align: right;\n",
       "    }\n",
       "</style>\n",
       "<table border=\"1\" class=\"dataframe\">\n",
       "  <thead>\n",
       "    <tr style=\"text-align: right;\">\n",
       "      <th></th>\n",
       "      <th>step</th>\n",
       "      <th>type</th>\n",
       "      <th>amount</th>\n",
       "      <th>oldbalanceOrg</th>\n",
       "      <th>newbalanceOrig</th>\n",
       "      <th>oldbalanceDest</th>\n",
       "      <th>newbalanceDest</th>\n",
       "      <th>isFraud</th>\n",
       "      <th>isFlaggedFraud</th>\n",
       "    </tr>\n",
       "  </thead>\n",
       "  <tbody>\n",
       "    <tr>\n",
       "      <th>0</th>\n",
       "      <td>1</td>\n",
       "      <td>PAYMENT</td>\n",
       "      <td>9839.64</td>\n",
       "      <td>170136.0</td>\n",
       "      <td>160296.36</td>\n",
       "      <td>0.0</td>\n",
       "      <td>0.0</td>\n",
       "      <td>0</td>\n",
       "      <td>0</td>\n",
       "    </tr>\n",
       "    <tr>\n",
       "      <th>1</th>\n",
       "      <td>1</td>\n",
       "      <td>PAYMENT</td>\n",
       "      <td>1864.28</td>\n",
       "      <td>21249.0</td>\n",
       "      <td>19384.72</td>\n",
       "      <td>0.0</td>\n",
       "      <td>0.0</td>\n",
       "      <td>0</td>\n",
       "      <td>0</td>\n",
       "    </tr>\n",
       "    <tr>\n",
       "      <th>2</th>\n",
       "      <td>1</td>\n",
       "      <td>TRANSFER</td>\n",
       "      <td>181.00</td>\n",
       "      <td>181.0</td>\n",
       "      <td>0.00</td>\n",
       "      <td>0.0</td>\n",
       "      <td>0.0</td>\n",
       "      <td>1</td>\n",
       "      <td>0</td>\n",
       "    </tr>\n",
       "    <tr>\n",
       "      <th>3</th>\n",
       "      <td>1</td>\n",
       "      <td>CASH_OUT</td>\n",
       "      <td>181.00</td>\n",
       "      <td>181.0</td>\n",
       "      <td>0.00</td>\n",
       "      <td>21182.0</td>\n",
       "      <td>0.0</td>\n",
       "      <td>1</td>\n",
       "      <td>0</td>\n",
       "    </tr>\n",
       "    <tr>\n",
       "      <th>4</th>\n",
       "      <td>1</td>\n",
       "      <td>PAYMENT</td>\n",
       "      <td>11668.14</td>\n",
       "      <td>41554.0</td>\n",
       "      <td>29885.86</td>\n",
       "      <td>0.0</td>\n",
       "      <td>0.0</td>\n",
       "      <td>0</td>\n",
       "      <td>0</td>\n",
       "    </tr>\n",
       "  </tbody>\n",
       "</table>\n",
       "</div>"
      ],
      "text/plain": [
       "   step      type    amount  oldbalanceOrg  newbalanceOrig  oldbalanceDest  \\\n",
       "0     1   PAYMENT   9839.64       170136.0       160296.36             0.0   \n",
       "1     1   PAYMENT   1864.28        21249.0        19384.72             0.0   \n",
       "2     1  TRANSFER    181.00          181.0            0.00             0.0   \n",
       "3     1  CASH_OUT    181.00          181.0            0.00         21182.0   \n",
       "4     1   PAYMENT  11668.14        41554.0        29885.86             0.0   \n",
       "\n",
       "   newbalanceDest  isFraud  isFlaggedFraud  \n",
       "0             0.0        0               0  \n",
       "1             0.0        0               0  \n",
       "2             0.0        1               0  \n",
       "3             0.0        1               0  \n",
       "4             0.0        0               0  "
      ]
     },
     "execution_count": 4,
     "metadata": {},
     "output_type": "execute_result"
    }
   ],
   "source": [
    "# Drop some useless columns\n",
    "fraud_df = fraud_df.drop(['nameOrig','nameDest'], 1)\n",
    "fraud_df.head()"
   ]
  },
  {
   "cell_type": "markdown",
   "id": "balanced-slave",
   "metadata": {},
   "source": [
    "### Correlation Matrix\n",
    "We can see that there is a strong correlation between the oldbalanceOrg and newbalanceOrig.  This colinearity may hint to the fact that we will need to use Descision Trees for our classfication, which are immune to colinearity.  Another solution is to apply a PCA (principle component analysis) to the dataset before performing logistic regression. "
   ]
  },
  {
   "cell_type": "code",
   "execution_count": 5,
   "id": "athletic-processor",
   "metadata": {},
   "outputs": [
    {
     "data": {
      "text/html": [
       "<style  type=\"text/css\" >\n",
       "#T_46278_row0_col0,#T_46278_row1_col1,#T_46278_row1_col2,#T_46278_row2_col1,#T_46278_row2_col2,#T_46278_row3_col3,#T_46278_row4_col4{\n",
       "            background-color:  #b40426;\n",
       "            color:  #f1f1f1;\n",
       "        }#T_46278_row0_col1,#T_46278_row0_col2,#T_46278_row1_col3,#T_46278_row1_col4,#T_46278_row2_col0,#T_46278_row2_col3,#T_46278_row2_col4{\n",
       "            background-color:  #3b4cc0;\n",
       "            color:  #f1f1f1;\n",
       "        }#T_46278_row0_col3{\n",
       "            background-color:  #8badfd;\n",
       "            color:  #000000;\n",
       "        }#T_46278_row0_col4{\n",
       "            background-color:  #cbd8ee;\n",
       "            color:  #000000;\n",
       "        }#T_46278_row1_col0{\n",
       "            background-color:  #3c4ec2;\n",
       "            color:  #f1f1f1;\n",
       "        }#T_46278_row3_col0{\n",
       "            background-color:  #9ebeff;\n",
       "            color:  #000000;\n",
       "        }#T_46278_row3_col1{\n",
       "            background-color:  #4f69d9;\n",
       "            color:  #000000;\n",
       "        }#T_46278_row3_col2{\n",
       "            background-color:  #516ddb;\n",
       "            color:  #000000;\n",
       "        }#T_46278_row3_col4,#T_46278_row4_col3{\n",
       "            background-color:  #bd1f2d;\n",
       "            color:  #f1f1f1;\n",
       "        }#T_46278_row4_col0{\n",
       "            background-color:  #d3dbe7;\n",
       "            color:  #000000;\n",
       "        }#T_46278_row4_col1{\n",
       "            background-color:  #485fd1;\n",
       "            color:  #f1f1f1;\n",
       "        }#T_46278_row4_col2{\n",
       "            background-color:  #4961d2;\n",
       "            color:  #f1f1f1;\n",
       "        }</style><table id=\"T_46278_\" ><thead>    <tr>        <th class=\"blank level0\" ></th>        <th class=\"col_heading level0 col0\" >amount</th>        <th class=\"col_heading level0 col1\" >oldbalanceOrg</th>        <th class=\"col_heading level0 col2\" >newbalanceOrig</th>        <th class=\"col_heading level0 col3\" >oldbalanceDest</th>        <th class=\"col_heading level0 col4\" >newbalanceDest</th>    </tr></thead><tbody>\n",
       "                <tr>\n",
       "                        <th id=\"T_46278_level0_row0\" class=\"row_heading level0 row0\" >amount</th>\n",
       "                        <td id=\"T_46278_row0_col0\" class=\"data row0 col0\" >1.000000</td>\n",
       "                        <td id=\"T_46278_row0_col1\" class=\"data row0 col1\" >-0.002762</td>\n",
       "                        <td id=\"T_46278_row0_col2\" class=\"data row0 col2\" >-0.007861</td>\n",
       "                        <td id=\"T_46278_row0_col3\" class=\"data row0 col3\" >0.294137</td>\n",
       "                        <td id=\"T_46278_row0_col4\" class=\"data row0 col4\" >0.459304</td>\n",
       "            </tr>\n",
       "            <tr>\n",
       "                        <th id=\"T_46278_level0_row1\" class=\"row_heading level0 row1\" >oldbalanceOrg</th>\n",
       "                        <td id=\"T_46278_row1_col0\" class=\"data row1 col0\" >-0.002762</td>\n",
       "                        <td id=\"T_46278_row1_col1\" class=\"data row1 col1\" >1.000000</td>\n",
       "                        <td id=\"T_46278_row1_col2\" class=\"data row1 col2\" >0.998803</td>\n",
       "                        <td id=\"T_46278_row1_col3\" class=\"data row1 col3\" >0.066243</td>\n",
       "                        <td id=\"T_46278_row1_col4\" class=\"data row1 col4\" >0.042029</td>\n",
       "            </tr>\n",
       "            <tr>\n",
       "                        <th id=\"T_46278_level0_row2\" class=\"row_heading level0 row2\" >newbalanceOrig</th>\n",
       "                        <td id=\"T_46278_row2_col0\" class=\"data row2 col0\" >-0.007861</td>\n",
       "                        <td id=\"T_46278_row2_col1\" class=\"data row2 col1\" >0.998803</td>\n",
       "                        <td id=\"T_46278_row2_col2\" class=\"data row2 col2\" >1.000000</td>\n",
       "                        <td id=\"T_46278_row2_col3\" class=\"data row2 col3\" >0.067812</td>\n",
       "                        <td id=\"T_46278_row2_col4\" class=\"data row2 col4\" >0.041837</td>\n",
       "            </tr>\n",
       "            <tr>\n",
       "                        <th id=\"T_46278_level0_row3\" class=\"row_heading level0 row3\" >oldbalanceDest</th>\n",
       "                        <td id=\"T_46278_row3_col0\" class=\"data row3 col0\" >0.294137</td>\n",
       "                        <td id=\"T_46278_row3_col1\" class=\"data row3 col1\" >0.066243</td>\n",
       "                        <td id=\"T_46278_row3_col2\" class=\"data row3 col2\" >0.067812</td>\n",
       "                        <td id=\"T_46278_row3_col3\" class=\"data row3 col3\" >1.000000</td>\n",
       "                        <td id=\"T_46278_row3_col4\" class=\"data row3 col4\" >0.976569</td>\n",
       "            </tr>\n",
       "            <tr>\n",
       "                        <th id=\"T_46278_level0_row4\" class=\"row_heading level0 row4\" >newbalanceDest</th>\n",
       "                        <td id=\"T_46278_row4_col0\" class=\"data row4 col0\" >0.459304</td>\n",
       "                        <td id=\"T_46278_row4_col1\" class=\"data row4 col1\" >0.042029</td>\n",
       "                        <td id=\"T_46278_row4_col2\" class=\"data row4 col2\" >0.041837</td>\n",
       "                        <td id=\"T_46278_row4_col3\" class=\"data row4 col3\" >0.976569</td>\n",
       "                        <td id=\"T_46278_row4_col4\" class=\"data row4 col4\" >1.000000</td>\n",
       "            </tr>\n",
       "    </tbody></table>"
      ],
      "text/plain": [
       "<pandas.io.formats.style.Styler at 0x110863160>"
      ]
     },
     "execution_count": 5,
     "metadata": {},
     "output_type": "execute_result"
    }
   ],
   "source": [
    "numeric_df = fraud_df[['amount','oldbalanceOrg', 'newbalanceOrig','oldbalanceDest', 'newbalanceDest']]\n",
    "\n",
    "rs = np.random.RandomState(0)\n",
    "corr = numeric_df.corr()\n",
    "corr.style.background_gradient(cmap = 'coolwarm')"
   ]
  },
  {
   "cell_type": "markdown",
   "id": "southern-start",
   "metadata": {},
   "source": [
    "### Checking for nans\n",
    "There are no nans in this dataset"
   ]
  },
  {
   "cell_type": "code",
   "execution_count": 6,
   "id": "indonesian-swaziland",
   "metadata": {},
   "outputs": [
    {
     "name": "stdout",
     "output_type": "stream",
     "text": [
      "----------step----------\n",
      "Percent nans: 0.0 %\n",
      "19     51352\n",
      "18     49579\n",
      "187    49083\n",
      "235    47491\n",
      "307    46968\n",
      "       ...  \n",
      "432        4\n",
      "706        4\n",
      "693        4\n",
      "112        2\n",
      "662        2\n",
      "Name: step, Length: 743, dtype: int64\n",
      "----------type----------\n",
      "Percent nans: 0.0 %\n",
      "CASH_OUT    2237500\n",
      "PAYMENT     2151495\n",
      "CASH_IN     1399284\n",
      "TRANSFER     532909\n",
      "DEBIT         41432\n",
      "Name: type, dtype: int64\n",
      "----------amount----------\n",
      "Percent nans: 0.0 %\n",
      "10000000.00    3207\n",
      "10000.00         88\n",
      "5000.00          79\n",
      "15000.00         68\n",
      "500.00           65\n",
      "               ... \n",
      "91066.95          1\n",
      "808.61            1\n",
      "483714.88         1\n",
      "775343.17         1\n",
      "223098.05         1\n",
      "Name: amount, Length: 5316900, dtype: int64\n",
      "----------oldbalanceOrg----------\n",
      "Percent nans: 0.0 %\n",
      "0.00          2102449\n",
      "184.00            918\n",
      "133.00            914\n",
      "195.00            912\n",
      "164.00            909\n",
      "               ...   \n",
      "396813.93           1\n",
      "189311.00           1\n",
      "3355778.65          1\n",
      "236757.00           1\n",
      "102899.11           1\n",
      "Name: oldbalanceOrg, Length: 1845844, dtype: int64\n",
      "----------newbalanceOrig----------\n",
      "Percent nans: 0.0 %\n",
      "0.00          3609566\n",
      "9011.73             4\n",
      "7468.59             4\n",
      "8927.38             4\n",
      "4019.43             4\n",
      "               ...   \n",
      "513900.83           1\n",
      "6644533.36          1\n",
      "11633.34            1\n",
      "1728256.15          1\n",
      "102899.11           1\n",
      "Name: newbalanceOrig, Length: 2682586, dtype: int64\n",
      "----------oldbalanceDest----------\n",
      "Percent nans: 0.0 %\n",
      "0.00           2704388\n",
      "10000000.00        615\n",
      "20000000.00        219\n",
      "30000000.00         86\n",
      "40000000.00         31\n",
      "                ...   \n",
      "174945.83            1\n",
      "2851171.35           1\n",
      "740725.47            1\n",
      "76834.40             1\n",
      "732602.41            1\n",
      "Name: oldbalanceDest, Length: 3614697, dtype: int64\n",
      "----------newbalanceDest----------\n",
      "Percent nans: 0.0 %\n",
      "0.00           2439433\n",
      "10000000.00         53\n",
      "971418.91           32\n",
      "19169204.93         29\n",
      "16532032.16         25\n",
      "                ...   \n",
      "350033.41            1\n",
      "302234.71            1\n",
      "219824.01            1\n",
      "808511.54            1\n",
      "970408.13            1\n",
      "Name: newbalanceDest, Length: 3555499, dtype: int64\n",
      "----------isFraud----------\n",
      "Percent nans: 0.0 %\n",
      "0    6354407\n",
      "1       8213\n",
      "Name: isFraud, dtype: int64\n",
      "----------isFlaggedFraud----------\n",
      "Percent nans: 0.0 %\n",
      "0    6362604\n",
      "1         16\n",
      "Name: isFlaggedFraud, dtype: int64\n"
     ]
    }
   ],
   "source": [
    "# Check for nans and entry counts\n",
    "cols = fraud_df.columns\n",
    "\n",
    "# Loop through columns to check for unique values and their respective counts as well as the number of nans\n",
    "for val in cols:\n",
    "    print(f\"----------{val}----------\")\n",
    "    num_na = fraud_df[val].isna().sum()\n",
    "    total_count = fraud_df[val].count().sum()\n",
    "    percent = (num_na / total_count) * 100\n",
    "    print(\"Percent nans:\", percent, '%')\n",
    "    print(fraud_df[val].value_counts(dropna=False))"
   ]
  },
  {
   "cell_type": "markdown",
   "id": "another-alcohol",
   "metadata": {},
   "source": [
    "### Describe Payment Type Distributions\n",
    "__We ought to look into the distributions and skewness of each unique payment type, each of which has wildly different distributions.__\n",
    "\n",
    "There are a total of 5 unique payment types in this dataset.\n",
    "\n",
    "__In this dataset, outliers are considered signals, so we are not dropping outliers, despite there being a skew in all of the payment types.__"
   ]
  },
  {
   "cell_type": "code",
   "execution_count": 7,
   "id": "female-lender",
   "metadata": {},
   "outputs": [
    {
     "data": {
      "text/plain": [
       "array(['PAYMENT', 'TRANSFER', 'CASH_OUT', 'DEBIT', 'CASH_IN'],\n",
       "      dtype=object)"
      ]
     },
     "execution_count": 7,
     "metadata": {},
     "output_type": "execute_result"
    }
   ],
   "source": [
    "fraud_df['type'].unique()"
   ]
  },
  {
   "cell_type": "code",
   "execution_count": 8,
   "id": "indoor-hybrid",
   "metadata": {},
   "outputs": [],
   "source": [
    "payment_df = fraud_df.loc[fraud_df['type'] == 'PAYMENT'].drop(['step', 'isFraud', 'isFlaggedFraud', 'type'],1)\n",
    "transfer_df = fraud_df.loc[fraud_df['type'] == 'TRANSFER'].drop(['step', 'isFraud', 'isFlaggedFraud','type'],1)\n",
    "cash_out_df = fraud_df.loc[fraud_df['type'] == 'CASH_OUT'].drop(['step', 'isFraud', 'isFlaggedFraud','type'],1)\n",
    "debit_df = fraud_df.loc[fraud_df['type'] == 'DEBIT'].drop(['step', 'isFraud', 'isFlaggedFraud','type'],1)\n",
    "cash_in_df = fraud_df.loc[fraud_df['type'] == 'CASH_IN'].drop(['step', 'isFraud', 'isFlaggedFraud','type'],1)"
   ]
  },
  {
   "cell_type": "markdown",
   "id": "integrated-strategy",
   "metadata": {},
   "source": [
    "#### Type = Payment"
   ]
  },
  {
   "cell_type": "code",
   "execution_count": 9,
   "id": "parallel-wonder",
   "metadata": {},
   "outputs": [
    {
     "data": {
      "text/plain": [
       "<AxesSubplot:>"
      ]
     },
     "execution_count": 9,
     "metadata": {},
     "output_type": "execute_result"
    },
    {
     "data": {
      "image/png": "[encoded data removed]",
      "text/plain": [
       "<Figure size 432x288 with 1 Axes>"
      ]
     },
     "metadata": {
      "needs_background": "light"
     },
     "output_type": "display_data"
    },
    {
     "data": {
      "image/png": "[encoded data removed]",
      "text/plain": [
       "<Figure size 432x288 with 1 Axes>"
      ]
     },
     "metadata": {
      "needs_background": "light"
     },
     "output_type": "display_data"
    }
   ],
   "source": [
    "describe_payment_df = payment_df.describe()\n",
    "min_max_values = describe_payment_df.loc[[\"min\",'max']] \n",
    "median_mode_values = describe_payment_df.loc[[\"mean\",'50%']] \n",
    "min_max_values.plot(kind = 'bar')\n",
    "median_mode_values.plot(kind = 'bar')"
   ]
  },
  {
   "cell_type": "markdown",
   "id": "liquid-feeding",
   "metadata": {},
   "source": [
    "#### Type = Transfer"
   ]
  },
  {
   "cell_type": "code",
   "execution_count": 10,
   "id": "every-default",
   "metadata": {},
   "outputs": [
    {
     "data": {
      "text/plain": [
       "<AxesSubplot:>"
      ]
     },
     "execution_count": 10,
     "metadata": {},
     "output_type": "execute_result"
    },
    {
     "data": {
      "image/png": "[encoded data removed]",
      "text/plain": [
       "<Figure size 432x288 with 1 Axes>"
      ]
     },
     "metadata": {
      "needs_background": "light"
     },
     "output_type": "display_data"
    },
    {
     "data": {
      "image/png": "[encoded data removed]",
      "text/plain": [
       "<Figure size 432x288 with 1 Axes>"
      ]
     },
     "metadata": {
      "needs_background": "light"
     },
     "output_type": "display_data"
    }
   ],
   "source": [
    "describe_transfer_df = transfer_df.describe()\n",
    "min_max_values = describe_transfer_df.loc[[\"min\",'max']] \n",
    "median_mode_values = describe_transfer_df.loc[[\"mean\",'50%']] \n",
    "min_max_values.plot(kind = 'bar')\n",
    "median_mode_values.plot(kind = 'bar')"
   ]
  },
  {
   "cell_type": "markdown",
   "id": "accepting-current",
   "metadata": {},
   "source": [
    "#### Type = Cash Out"
   ]
  },
  {
   "cell_type": "code",
   "execution_count": 11,
   "id": "certain-reform",
   "metadata": {},
   "outputs": [
    {
     "data": {
      "text/plain": [
       "<AxesSubplot:>"
      ]
     },
     "execution_count": 11,
     "metadata": {},
     "output_type": "execute_result"
    },
    {
     "data": {
      "image/png": "[encoded data removed]",
      "text/plain": [
       "<Figure size 432x288 with 1 Axes>"
      ]
     },
     "metadata": {
      "needs_background": "light"
     },
     "output_type": "display_data"
    },
    {
     "data": {
      "image/png": "[encoded data removed]",
      "text/plain": [
       "<Figure size 432x288 with 1 Axes>"
      ]
     },
     "metadata": {
      "needs_background": "light"
     },
     "output_type": "display_data"
    }
   ],
   "source": [
    "describe_cash_out_df = cash_out_df.describe()\n",
    "min_max_values = describe_cash_out_df.loc[[\"min\",'max']] \n",
    "median_mode_values = describe_cash_out_df.loc[[\"mean\",'50%']] \n",
    "min_max_values.plot(kind = 'bar')\n",
    "median_mode_values.plot(kind = 'bar')"
   ]
  },
  {
   "cell_type": "markdown",
   "id": "selective-taste",
   "metadata": {},
   "source": [
    "#### Type = debit"
   ]
  },
  {
   "cell_type": "code",
   "execution_count": 12,
   "id": "processed-walker",
   "metadata": {},
   "outputs": [
    {
     "data": {
      "text/plain": [
       "<AxesSubplot:>"
      ]
     },
     "execution_count": 12,
     "metadata": {},
     "output_type": "execute_result"
    },
    {
     "data": {
      "image/png": "[encoded data removed]",
      "text/plain": [
       "<Figure size 432x288 with 1 Axes>"
      ]
     },
     "metadata": {
      "needs_background": "light"
     },
     "output_type": "display_data"
    },
    {
     "data": {
      "image/png": "[encoded data removed]",
      "text/plain": [
       "<Figure size 432x288 with 1 Axes>"
      ]
     },
     "metadata": {
      "needs_background": "light"
     },
     "output_type": "display_data"
    }
   ],
   "source": [
    "describe_debit_df = debit_df.describe()\n",
    "min_max_values = describe_debit_df.loc[[\"min\",'max']] \n",
    "median_mode_values = describe_debit_df.loc[[\"mean\",'50%']] \n",
    "min_max_values.plot(kind = 'bar')\n",
    "median_mode_values.plot(kind = 'bar')"
   ]
  },
  {
   "cell_type": "markdown",
   "id": "statewide-burst",
   "metadata": {},
   "source": [
    "#### Type = Cash-in"
   ]
  },
  {
   "cell_type": "code",
   "execution_count": 13,
   "id": "understood-jewelry",
   "metadata": {},
   "outputs": [
    {
     "data": {
      "text/plain": [
       "<AxesSubplot:>"
      ]
     },
     "execution_count": 13,
     "metadata": {},
     "output_type": "execute_result"
    },
    {
     "data": {
      "image/png": "[encoded data removed]",
      "text/plain": [
       "<Figure size 432x288 with 1 Axes>"
      ]
     },
     "metadata": {
      "needs_background": "light"
     },
     "output_type": "display_data"
    },
    {
     "data": {
      "image/png": "[encoded data removed]",
      "text/plain": [
       "<Figure size 432x288 with 1 Axes>"
      ]
     },
     "metadata": {
      "needs_background": "light"
     },
     "output_type": "display_data"
    }
   ],
   "source": [
    "describe_cash_in_df = cash_in_df.describe()\n",
    "min_max_values = describe_cash_in_df.loc[[\"min\",'max']] \n",
    "median_mode_values = describe_cash_in_df.loc[[\"mean\",'50%']] \n",
    "min_max_values.plot(kind = 'bar')\n",
    "median_mode_values.plot(kind = 'bar')"
   ]
  },
  {
   "cell_type": "markdown",
   "id": "joint-championship",
   "metadata": {},
   "source": [
    "### Balance in Label\n",
    "I need to check to see whether I need to perform a stratified k-fold cross validation.  You usually need to do something like this if a random train-test split could end up creating a massive imbalance between the proportions of your y_train and y_test splits.  We clearly have an imbalance in this dataset, since there are 8213 known fraudulent transactions and 6354407 known non-fraudylent transactions."
   ]
  },
  {
   "cell_type": "code",
   "execution_count": 14,
   "id": "available-upset",
   "metadata": {},
   "outputs": [
    {
     "data": {
      "text/plain": [
       "0    6354407\n",
       "1       8213\n",
       "Name: isFraud, dtype: int64"
      ]
     },
     "execution_count": 14,
     "metadata": {},
     "output_type": "execute_result"
    }
   ],
   "source": [
    "fraud_df['isFraud'].value_counts()"
   ]
  },
  {
   "cell_type": "code",
   "execution_count": 15,
   "id": "iraqi-andrews",
   "metadata": {},
   "outputs": [
    {
     "data": {
      "image/png": "[encoded data removed]",
      "text/plain": [
       "<Figure size 864x576 with 1 Axes>"
      ]
     },
     "metadata": {
      "needs_background": "light"
     },
     "output_type": "display_data"
    }
   ],
   "source": [
    "plt.figure(figsize=(12,8))\n",
    "ax = sns.countplot(x=\"isFraud\", data=fraud_df, palette = 'hls')\n",
    "plt.title('Balance in Label')\n",
    "plt.xlabel('Fraudulent or not')\n",
    "plt.ylabel('Count')\n",
    "\n",
    "for p in ax.patches:\n",
    "        ax.annotate('{:.1f}'.format(p.get_height()), (p.get_x()+0.1, p.get_height()+50))\n"
   ]
  },
  {
   "cell_type": "markdown",
   "id": "planned-drama",
   "metadata": {},
   "source": [
    "## Encoding\n",
    "I am using one-hot encoding as apposed to dummy encoding since the payment type is not ordinal (order does not matter)."
   ]
  },
  {
   "cell_type": "code",
   "execution_count": 16,
   "id": "oriented-visit",
   "metadata": {},
   "outputs": [
    {
     "data": {
      "text/html": [
       "<div>\n",
       "<style scoped>\n",
       "    .dataframe tbody tr th:only-of-type {\n",
       "        vertical-align: middle;\n",
       "    }\n",
       "\n",
       "    .dataframe tbody tr th {\n",
       "        vertical-align: top;\n",
       "    }\n",
       "\n",
       "    .dataframe thead th {\n",
       "        text-align: right;\n",
       "    }\n",
       "</style>\n",
       "<table border=\"1\" class=\"dataframe\">\n",
       "  <thead>\n",
       "    <tr style=\"text-align: right;\">\n",
       "      <th></th>\n",
       "      <th>step</th>\n",
       "      <th>amount</th>\n",
       "      <th>oldbalanceOrg</th>\n",
       "      <th>newbalanceOrig</th>\n",
       "      <th>oldbalanceDest</th>\n",
       "      <th>newbalanceDest</th>\n",
       "      <th>isFraud</th>\n",
       "      <th>isFlaggedFraud</th>\n",
       "      <th>CASH_IN</th>\n",
       "      <th>CASH_OUT</th>\n",
       "      <th>DEBIT</th>\n",
       "      <th>PAYMENT</th>\n",
       "      <th>TRANSFER</th>\n",
       "    </tr>\n",
       "  </thead>\n",
       "  <tbody>\n",
       "    <tr>\n",
       "      <th>0</th>\n",
       "      <td>1</td>\n",
       "      <td>9839.64</td>\n",
       "      <td>170136.00</td>\n",
       "      <td>160296.36</td>\n",
       "      <td>0.00</td>\n",
       "      <td>0.00</td>\n",
       "      <td>0</td>\n",
       "      <td>0</td>\n",
       "      <td>0</td>\n",
       "      <td>0</td>\n",
       "      <td>0</td>\n",
       "      <td>1</td>\n",
       "      <td>0</td>\n",
       "    </tr>\n",
       "    <tr>\n",
       "      <th>1</th>\n",
       "      <td>1</td>\n",
       "      <td>1864.28</td>\n",
       "      <td>21249.00</td>\n",
       "      <td>19384.72</td>\n",
       "      <td>0.00</td>\n",
       "      <td>0.00</td>\n",
       "      <td>0</td>\n",
       "      <td>0</td>\n",
       "      <td>0</td>\n",
       "      <td>0</td>\n",
       "      <td>0</td>\n",
       "      <td>1</td>\n",
       "      <td>0</td>\n",
       "    </tr>\n",
       "    <tr>\n",
       "      <th>2</th>\n",
       "      <td>1</td>\n",
       "      <td>181.00</td>\n",
       "      <td>181.00</td>\n",
       "      <td>0.00</td>\n",
       "      <td>0.00</td>\n",
       "      <td>0.00</td>\n",
       "      <td>1</td>\n",
       "      <td>0</td>\n",
       "      <td>0</td>\n",
       "      <td>0</td>\n",
       "      <td>0</td>\n",
       "      <td>0</td>\n",
       "      <td>1</td>\n",
       "    </tr>\n",
       "    <tr>\n",
       "      <th>3</th>\n",
       "      <td>1</td>\n",
       "      <td>181.00</td>\n",
       "      <td>181.00</td>\n",
       "      <td>0.00</td>\n",
       "      <td>21182.00</td>\n",
       "      <td>0.00</td>\n",
       "      <td>1</td>\n",
       "      <td>0</td>\n",
       "      <td>0</td>\n",
       "      <td>1</td>\n",
       "      <td>0</td>\n",
       "      <td>0</td>\n",
       "      <td>0</td>\n",
       "    </tr>\n",
       "    <tr>\n",
       "      <th>4</th>\n",
       "      <td>1</td>\n",
       "      <td>11668.14</td>\n",
       "      <td>41554.00</td>\n",
       "      <td>29885.86</td>\n",
       "      <td>0.00</td>\n",
       "      <td>0.00</td>\n",
       "      <td>0</td>\n",
       "      <td>0</td>\n",
       "      <td>0</td>\n",
       "      <td>0</td>\n",
       "      <td>0</td>\n",
       "      <td>1</td>\n",
       "      <td>0</td>\n",
       "    </tr>\n",
       "    <tr>\n",
       "      <th>...</th>\n",
       "      <td>...</td>\n",
       "      <td>...</td>\n",
       "      <td>...</td>\n",
       "      <td>...</td>\n",
       "      <td>...</td>\n",
       "      <td>...</td>\n",
       "      <td>...</td>\n",
       "      <td>...</td>\n",
       "      <td>...</td>\n",
       "      <td>...</td>\n",
       "      <td>...</td>\n",
       "      <td>...</td>\n",
       "      <td>...</td>\n",
       "    </tr>\n",
       "    <tr>\n",
       "      <th>6362615</th>\n",
       "      <td>743</td>\n",
       "      <td>339682.13</td>\n",
       "      <td>339682.13</td>\n",
       "      <td>0.00</td>\n",
       "      <td>0.00</td>\n",
       "      <td>339682.13</td>\n",
       "      <td>1</td>\n",
       "      <td>0</td>\n",
       "      <td>0</td>\n",
       "      <td>1</td>\n",
       "      <td>0</td>\n",
       "      <td>0</td>\n",
       "      <td>0</td>\n",
       "    </tr>\n",
       "    <tr>\n",
       "      <th>6362616</th>\n",
       "      <td>743</td>\n",
       "      <td>6311409.28</td>\n",
       "      <td>6311409.28</td>\n",
       "      <td>0.00</td>\n",
       "      <td>0.00</td>\n",
       "      <td>0.00</td>\n",
       "      <td>1</td>\n",
       "      <td>0</td>\n",
       "      <td>0</td>\n",
       "      <td>0</td>\n",
       "      <td>0</td>\n",
       "      <td>0</td>\n",
       "      <td>1</td>\n",
       "    </tr>\n",
       "    <tr>\n",
       "      <th>6362617</th>\n",
       "      <td>743</td>\n",
       "      <td>6311409.28</td>\n",
       "      <td>6311409.28</td>\n",
       "      <td>0.00</td>\n",
       "      <td>68488.84</td>\n",
       "      <td>6379898.11</td>\n",
       "      <td>1</td>\n",
       "      <td>0</td>\n",
       "      <td>0</td>\n",
       "      <td>1</td>\n",
       "      <td>0</td>\n",
       "      <td>0</td>\n",
       "      <td>0</td>\n",
       "    </tr>\n",
       "    <tr>\n",
       "      <th>6362618</th>\n",
       "      <td>743</td>\n",
       "      <td>850002.52</td>\n",
       "      <td>850002.52</td>\n",
       "      <td>0.00</td>\n",
       "      <td>0.00</td>\n",
       "      <td>0.00</td>\n",
       "      <td>1</td>\n",
       "      <td>0</td>\n",
       "      <td>0</td>\n",
       "      <td>0</td>\n",
       "      <td>0</td>\n",
       "      <td>0</td>\n",
       "      <td>1</td>\n",
       "    </tr>\n",
       "    <tr>\n",
       "      <th>6362619</th>\n",
       "      <td>743</td>\n",
       "      <td>850002.52</td>\n",
       "      <td>850002.52</td>\n",
       "      <td>0.00</td>\n",
       "      <td>6510099.11</td>\n",
       "      <td>7360101.63</td>\n",
       "      <td>1</td>\n",
       "      <td>0</td>\n",
       "      <td>0</td>\n",
       "      <td>1</td>\n",
       "      <td>0</td>\n",
       "      <td>0</td>\n",
       "      <td>0</td>\n",
       "    </tr>\n",
       "  </tbody>\n",
       "</table>\n",
       "<p>6362620 rows × 13 columns</p>\n",
       "</div>"
      ],
      "text/plain": [
       "         step      amount  oldbalanceOrg  newbalanceOrig  oldbalanceDest  \\\n",
       "0           1     9839.64      170136.00       160296.36            0.00   \n",
       "1           1     1864.28       21249.00        19384.72            0.00   \n",
       "2           1      181.00         181.00            0.00            0.00   \n",
       "3           1      181.00         181.00            0.00        21182.00   \n",
       "4           1    11668.14       41554.00        29885.86            0.00   \n",
       "...       ...         ...            ...             ...             ...   \n",
       "6362615   743   339682.13      339682.13            0.00            0.00   \n",
       "6362616   743  6311409.28     6311409.28            0.00            0.00   \n",
       "6362617   743  6311409.28     6311409.28            0.00        68488.84   \n",
       "6362618   743   850002.52      850002.52            0.00            0.00   \n",
       "6362619   743   850002.52      850002.52            0.00      6510099.11   \n",
       "\n",
       "         newbalanceDest  isFraud  isFlaggedFraud  CASH_IN  CASH_OUT  DEBIT  \\\n",
       "0                  0.00        0               0        0         0      0   \n",
       "1                  0.00        0               0        0         0      0   \n",
       "2                  0.00        1               0        0         0      0   \n",
       "3                  0.00        1               0        0         1      0   \n",
       "4                  0.00        0               0        0         0      0   \n",
       "...                 ...      ...             ...      ...       ...    ...   \n",
       "6362615       339682.13        1               0        0         1      0   \n",
       "6362616            0.00        1               0        0         0      0   \n",
       "6362617      6379898.11        1               0        0         1      0   \n",
       "6362618            0.00        1               0        0         0      0   \n",
       "6362619      7360101.63        1               0        0         1      0   \n",
       "\n",
       "         PAYMENT  TRANSFER  \n",
       "0              1         0  \n",
       "1              1         0  \n",
       "2              0         1  \n",
       "3              0         0  \n",
       "4              1         0  \n",
       "...          ...       ...  \n",
       "6362615        0         0  \n",
       "6362616        0         1  \n",
       "6362617        0         0  \n",
       "6362618        0         1  \n",
       "6362619        0         0  \n",
       "\n",
       "[6362620 rows x 13 columns]"
      ]
     },
     "execution_count": 16,
     "metadata": {},
     "output_type": "execute_result"
    }
   ],
   "source": [
    "# Get one hot encoding of columns B\n",
    "one_hot = pd.get_dummies(fraud_df['type'])\n",
    "# Drop column B as it is now encoded\n",
    "encoded_df = fraud_df.drop('type',axis = 1)\n",
    "# Join the encoded df\n",
    "encoded_df = encoded_df.join(one_hot)\n",
    "encoded_df"
   ]
  },
  {
   "cell_type": "markdown",
   "id": "spanish-darkness",
   "metadata": {},
   "source": [
    "## Models\n",
    "Since this is a highly imbalanced dataset, the accuracy score is not a good predictor of the model performance.  We do not want to misclassify fraudulent transactions so true negative rate should be low.  At the same time, we don't care about false possitive in the model.  If a non-fraudulent transaction is marked as fraudulent, the only cost on the company's behalf is a potential waste of time.  Recall reduces false-negatives and precision reduces false-positives.  Imbalanced dataset also require precision AUC curves, which we will be performing with both models.\n",
    "\n",
    "I did not have the time for this assessment, but perhaps XGBoost would be best for this dataset because of hyperparameter opportunities with regularization for penalizing multi-colinearity.\n",
    "\n",
    "I plotted prescision-recall curves since there is an imbalanced dataset as apposed to ROC AUC curves, which you usually use for balanced datasets.\n",
    "\n",
    "1. Preparation of data using stratified k-fold cross validation since this is a higly imbalaned dataset with fewer 1s than 0s in the labels.  I am performing 2 splits with the StratifiedKFold.\n",
    "2. I will be using the following classification algorithms for training the model as well as assessing their accuracies:\n",
    "    1. Logistic Regresstion\n",
    "        * Accuracy assessed with confusion matrix\n",
    "    2. Random Forrest\n",
    "        * This model actually performed satisfactorily, but the results can only be trusted with further hyperparameter tuning and using algorithms such as XGBoost."
   ]
  },
  {
   "cell_type": "code",
   "execution_count": 17,
   "id": "mexican-editing",
   "metadata": {},
   "outputs": [
    {
     "name": "stdout",
     "output_type": "stream",
     "text": [
      "--------------------------\n",
      "Logistic Regression\n",
      "--------------------------\n",
      "[[3166619   10585]\n",
      " [    975    3131]]\n"
     ]
    },
    {
     "data": {
      "image/png": "[encoded data removed]",
      "text/plain": [
       "<Figure size 432x288 with 2 Axes>"
      ]
     },
     "metadata": {
      "needs_background": "light"
     },
     "output_type": "display_data"
    },
    {
     "name": "stdout",
     "output_type": "stream",
     "text": [
      "--------------------------\n",
      "Random forest classifier\n",
      "--------------------------\n",
      "[[3177070     134]\n",
      " [    981    3125]]\n"
     ]
    },
    {
     "data": {
      "image/png": "[encoded data removed]",
      "text/plain": [
       "<Figure size 432x288 with 2 Axes>"
      ]
     },
     "metadata": {
      "needs_background": "light"
     },
     "output_type": "display_data"
    },
    {
     "data": {
      "image/png": "[encoded data removed]",
      "text/plain": [
       "<Figure size 432x288 with 1 Axes>"
      ]
     },
     "metadata": {
      "needs_background": "light"
     },
     "output_type": "display_data"
    },
    {
     "name": "stdout",
     "output_type": "stream",
     "text": [
      "--------------------------\n",
      "Logistic Regression\n",
      "--------------------------\n",
      "[[3172979    4224]\n",
      " [    777    3330]]\n"
     ]
    },
    {
     "data": {
      "image/png": "[encoded data removed]",
      "text/plain": [
       "<Figure size 432x288 with 2 Axes>"
      ]
     },
     "metadata": {
      "needs_background": "light"
     },
     "output_type": "display_data"
    },
    {
     "name": "stdout",
     "output_type": "stream",
     "text": [
      "--------------------------\n",
      "Random forest classifier\n",
      "--------------------------\n",
      "[[3177110      93]\n",
      " [    914    3193]]\n"
     ]
    },
    {
     "data": {
      "image/png": "[encoded data removed]",
      "text/plain": [
       "<Figure size 432x288 with 2 Axes>"
      ]
     },
     "metadata": {
      "needs_background": "light"
     },
     "output_type": "display_data"
    },
    {
     "data": {
      "image/png": "[encoded data removed]",
      "text/plain": [
       "<Figure size 432x288 with 1 Axes>"
      ]
     },
     "metadata": {
      "needs_background": "light"
     },
     "output_type": "display_data"
    }
   ],
   "source": [
    "# Create X and y variables\n",
    "X = encoded_df[['amount','oldbalanceOrg','newbalanceOrig','oldbalanceDest',\n",
    "                'newbalanceDest','isFlaggedFraud','CASH_IN','CASH_OUT','DEBIT','PAYMENT','TRANSFER']]\n",
    "y = encoded_df['isFraud']\n",
    "skf = StratifiedKFold(n_splits=2)\n",
    "skf.get_n_splits(X, y)\n",
    "StratifiedKFold(n_splits=2, random_state=None, shuffle=False)\n",
    "\n",
    "# Create model objects\n",
    "lr = LogisticRegression(random_state=0, solver='liblinear', max_iter=1500)\n",
    "rfmodel = RandomForestClassifier()\n",
    "\n",
    "# Perform a stratified k-fold cross validation \n",
    "for train_index, test_index in skf.split(X, y):\n",
    "    X_train, X_test = X.iloc[train_index], X.iloc[test_index]\n",
    "    Y_train, Y_test = y.iloc[train_index], y.iloc[test_index]\n",
    "    \n",
    "    #########################################\n",
    "    #Logistic regression\n",
    "    #########################################\n",
    "    print(\"--------------------------\")\n",
    "    print(\"Logistic Regression\")\n",
    "    print(\"--------------------------\")\n",
    "    lrmodel = lr.fit(X_train, Y_train.values.reshape(-1,))\n",
    "    Y_predict_lr = lrmodel.predict(X_test)\n",
    "\n",
    "    accuracyscore = accuracy_score(Y_test.values, Y_predict_lr)\n",
    "    recallscore = recall_score(Y_test.values, Y_predict_lr)\n",
    "    avgprecisionscore = average_precision_score(Y_test.values, Y_predict_lr)\n",
    "    f1score = f1_score(Y_test.values, Y_predict_lr, average = None)\n",
    "\n",
    "    data = [['Accuracy Score', accuracyscore, 'Logistic Regression'], \n",
    "            ['Recall Score', recallscore, 'Logistic Regression'], \n",
    "            ['Average precision Score', avgprecisionscore, 'Logistic Regression'],\n",
    "            ['F1 Score', f1score, 'Logistic Regression']] \n",
    "    # Create the pandas DataFrame \n",
    "    dflr = pd.DataFrame(data, columns = ['Evaluation Metrics', 'Score', 'Algorithm']) \n",
    "    \n",
    "\n",
    "    cm = confusion_matrix(Y_test, Y_predict_lr)\n",
    "    print(cm)\n",
    "    #Plot the confusion matrix\n",
    "    ax= plt.subplot()\n",
    "    sns.heatmap(pd.DataFrame(cm), annot=True, ax = ax, cmap=\"viridis\" ,fmt='g'); \n",
    "    # labels, title and ticks\n",
    "    ax.set_xlabel('Predicted labels')\n",
    "    ax.set_ylabel('True labels'); \n",
    "    ax.set_title('Logistic Regression'); \n",
    "    ax.xaxis.set_ticklabels(['Fraud', '!Fraud']); \n",
    "    ax.yaxis.set_ticklabels(['Fraud', '!Fraud']);\n",
    "    plt.show()\n",
    "\n",
    "    #########################################\n",
    "    #Random forest classifier\n",
    "    #########################################\n",
    "    print(\"--------------------------\")\n",
    "    print(\"Random forest classifier\")\n",
    "    print(\"--------------------------\")\n",
    "    rfmodel.fit(X_train, Y_train.values.reshape(-1,))\n",
    "    Y_predict_rf = rfmodel.predict(X_test)\n",
    "    #print(\"Accuracy score: \", rfmodel.score(X_test, Y_test))\n",
    "    accuracyscore = accuracy_score(Y_test.values, Y_predict_rf)\n",
    "    recallscore = recall_score(Y_test.values, Y_predict_rf)\n",
    "    avgprecisionscore = average_precision_score(Y_test.values, Y_predict_rf)\n",
    "    f1score = f1_score(Y_test.values, Y_predict_rf, average = None)\n",
    "\n",
    "    data = [['Accuracy Score', accuracyscore, 'Random Forest Classifier'], \n",
    "            ['Recall Score', recallscore, 'Random Forest Classifier'], \n",
    "            ['Average precision Score', avgprecisionscore, 'Random Forest Classifier'],\n",
    "            ['F1 Score', f1score, 'Random Forest Classifier']] \n",
    "    # Create the pandas DataFrame \n",
    "    dfrf = pd.DataFrame(data, columns = ['Evaluation Metrics', 'Score', 'Algorithm']) \n",
    "\n",
    "    cm = confusion_matrix(Y_test, Y_predict_rf)\n",
    "    print(cm)\n",
    "    ax= plt.subplot()\n",
    "    sns.heatmap(pd.DataFrame(cm), annot=True, ax = ax, cmap=\"viridis\" ,fmt='g');\n",
    "    # labels, title and ticks\n",
    "    ax.set_xlabel('Predicted labels');\n",
    "    ax.set_ylabel('True labels'); \n",
    "    ax.set_title('Random Forest'); \n",
    "    ax.xaxis.set_ticklabels(['Fraud', '!Fraud']); \n",
    "    ax.yaxis.set_ticklabels(['Fraud', '!Fraud']);\n",
    "    plt.show()\n",
    "\n",
    "    # Precision Recall Curve\n",
    "    precision, recall, threshold = precision_recall_curve(Y_test, Y_predict_rf)\n",
    "    plt.step(recall, precision, color='b', alpha=0.2, where='post')\n",
    "    plt.fill_between(recall, precision, step='post', alpha=0.2, color='b')\n",
    "    plt.xlabel('Recall')\n",
    "    plt.ylabel('Precision')\n",
    "    plt.ylim([0.0, 1.05])\n",
    "    plt.xlim([0.0, 1.0])\n",
    "    plt.title('Random Forest Classifier Precision Recall Curve: AP={0:0.2f}'.format(avgprecisionscore))\n",
    "    plt.show()"
   ]
  }
 ],
 "metadata": {
  "kernelspec": {
   "display_name": "Python 3",
   "language": "python",
   "name": "python3"
  },
  "language_info": {
   "codemirror_mode": {
    "name": "ipython",
    "version": 3
   },
   "file_extension": ".py",
   "mimetype": "text/x-python",
   "name": "python",
   "nbconvert_exporter": "python",
   "pygments_lexer": "ipython3",
   "version": "3.9.0"
  }
 },
 "nbformat": 4,
 "nbformat_minor": 5
}
